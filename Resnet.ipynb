{
 "cells": [
  {
   "cell_type": "code",
   "execution_count": 1,
   "metadata": {},
   "outputs": [
    {
     "name": "stdout",
     "output_type": "stream",
     "text": [
      "Downloading data from https://www.cs.toronto.edu/~kriz/cifar-10-python.tar.gz\n",
      "\u001b[1m170498071/170498071\u001b[0m \u001b[32m━━━━━━━━━━━━━━━━━━━━\u001b[0m\u001b[37m\u001b[0m \u001b[1m82s\u001b[0m 0us/step\n",
      "Epoch 1/5\n",
      "\u001b[1m782/782\u001b[0m \u001b[32m━━━━━━━━━━━━━━━━━━━━\u001b[0m\u001b[37m\u001b[0m \u001b[1m1301s\u001b[0m 2s/step - accuracy: 0.4536 - loss: 1.5673 - val_accuracy: 0.5453 - val_loss: 1.4001\n",
      "Epoch 2/5\n",
      "\u001b[1m782/782\u001b[0m \u001b[32m━━━━━━━━━━━━━━━━━━━━\u001b[0m\u001b[37m\u001b[0m \u001b[1m1505s\u001b[0m 2s/step - accuracy: 0.7243 - loss: 0.7797 - val_accuracy: 0.6821 - val_loss: 0.9243\n",
      "Epoch 3/5\n",
      "\u001b[1m782/782\u001b[0m \u001b[32m━━━━━━━━━━━━━━━━━━━━\u001b[0m\u001b[37m\u001b[0m \u001b[1m1494s\u001b[0m 2s/step - accuracy: 0.8038 - loss: 0.5644 - val_accuracy: 0.7394 - val_loss: 0.7648\n",
      "Epoch 4/5\n",
      "\u001b[1m782/782\u001b[0m \u001b[32m━━━━━━━━━━━━━━━━━━━━\u001b[0m\u001b[37m\u001b[0m \u001b[1m1520s\u001b[0m 2s/step - accuracy: 0.8509 - loss: 0.4281 - val_accuracy: 0.7646 - val_loss: 0.7510\n",
      "Epoch 5/5\n",
      "\u001b[1m782/782\u001b[0m \u001b[32m━━━━━━━━━━━━━━━━━━━━\u001b[0m\u001b[37m\u001b[0m \u001b[1m1196s\u001b[0m 2s/step - accuracy: 0.8896 - loss: 0.3137 - val_accuracy: 0.7530 - val_loss: 0.8334\n"
     ]
    },
    {
     "data": {
      "text/plain": [
       "<keras.src.callbacks.history.History at 0x167e84ff9e0>"
      ]
     },
     "execution_count": 1,
     "metadata": {},
     "output_type": "execute_result"
    }
   ],
   "source": [
    "import tensorflow as tf\n",
    "from tensorflow.keras.layers import Input, Conv2D, BatchNormalization, Activation, Add, GlobalAveragePooling2D, Dense\n",
    "from tensorflow.keras.models import Model\n",
    "from tensorflow.keras.datasets import cifar10\n",
    "from tensorflow.keras.utils import to_categorical\n",
    "\n",
    "# Residual Block (Basic)\n",
    "def residual_block(x, filters, stride=1, use_projection=False):\n",
    "    shortcut = x\n",
    "\n",
    "    # First convolution\n",
    "    x = Conv2D(filters, kernel_size=(3, 3), strides=stride, padding='same', use_bias=False)(x)\n",
    "    x = BatchNormalization()(x)\n",
    "    x = Activation('relu')(x)\n",
    "\n",
    "    # Second convolution\n",
    "    x = Conv2D(filters, kernel_size=(3, 3), strides=1, padding='same', use_bias=False)(x)\n",
    "    x = BatchNormalization()(x)\n",
    "\n",
    "    # Projection shortcut if needed\n",
    "    if use_projection:\n",
    "        shortcut = Conv2D(filters, kernel_size=(1, 1), strides=stride, use_bias=False)(shortcut)\n",
    "        shortcut = BatchNormalization()(shortcut)\n",
    "\n",
    "    # Add shortcut\n",
    "    x = Add()([x, shortcut])\n",
    "    x = Activation('relu')(x)\n",
    "\n",
    "    return x\n",
    "\n",
    "# ResNet Model\n",
    "def ResNet18(input_shape=(32, 32, 3), num_classes=10):  # Adjust input shape and number of classes for CIFAR-10\n",
    "    inputs = Input(shape=input_shape)\n",
    "\n",
    "    # Initial layers\n",
    "    x = Conv2D(64, kernel_size=(3, 3), strides=1, padding='same', use_bias=False)(inputs)  # Change kernel size and stride\n",
    "    x = BatchNormalization()(x)\n",
    "    x = Activation('relu')(x)\n",
    "\n",
    "    # Residual blocks\n",
    "    x = residual_block(x, filters=64)\n",
    "    x = residual_block(x, filters=64)\n",
    "\n",
    "    x = residual_block(x, filters=128, stride=2, use_projection=True)\n",
    "    x = residual_block(x, filters=128)\n",
    "\n",
    "    x = residual_block(x, filters=256, stride=2, use_projection=True)\n",
    "    x = residual_block(x, filters=256)\n",
    "\n",
    "    x = residual_block(x, filters=512, stride=2, use_projection=True)\n",
    "    x = residual_block(x, filters=512)\n",
    "\n",
    "    # Global average pooling and output layer\n",
    "    x = GlobalAveragePooling2D()(x)\n",
    "    outputs = Dense(num_classes, activation='softmax')(x)\n",
    "\n",
    "    # Model\n",
    "    model = Model(inputs, outputs)\n",
    "    return model\n",
    "\n",
    "# Load CIFAR-10 dataset\n",
    "(x_train, y_train), (x_test, y_test) = cifar10.load_data()\n",
    "x_train, x_test = x_train / 255.0, x_test / 255.0  # Normalize pixel values\n",
    "y_train, y_test = to_categorical(y_train, 10), to_categorical(y_test, 10)  # One-hot encoding\n",
    "\n",
    "# Instantiate and compile the model\n",
    "model = ResNet18(input_shape=(32, 32, 3), num_classes=10)\n",
    "model.compile(optimizer='adam', loss='categorical_crossentropy', metrics=['accuracy'])\n",
    "\n",
    "# Train the model\n",
    "model.fit(x_train, y_train, validation_data=(x_test, y_test), epochs=5, batch_size=64)  # Reduce epochs for small dataset\n"
   ]
  }
 ],
 "metadata": {
  "kernelspec": {
   "display_name": "Python 3",
   "language": "python",
   "name": "python3"
  },
  "language_info": {
   "codemirror_mode": {
    "name": "ipython",
    "version": 3
   },
   "file_extension": ".py",
   "mimetype": "text/x-python",
   "name": "python",
   "nbconvert_exporter": "python",
   "pygments_lexer": "ipython3",
   "version": "3.12.2"
  }
 },
 "nbformat": 4,
 "nbformat_minor": 2
}
